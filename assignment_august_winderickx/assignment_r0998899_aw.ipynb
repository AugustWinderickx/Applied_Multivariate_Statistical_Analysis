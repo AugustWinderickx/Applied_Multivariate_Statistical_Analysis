{
 "cells": [
  {
   "cell_type": "markdown",
   "metadata": {},
   "source": [
    "# Multivariate data analysis of the Spotify Tracks dataset"
   ]
  },
  {
   "cell_type": "code",
   "execution_count": 1,
   "metadata": {},
   "outputs": [
    {
     "name": "stdout",
     "output_type": "stream",
     "text": [
      "All required libraries are already installed!\n"
     ]
    }
   ],
   "source": [
    "# imports\n",
    "try:\n",
    "    # Data manipulation libraries\n",
    "    import pandas as pd\n",
    "    import numpy as np\n",
    "\n",
    "    # Visualization libraries\n",
    "    import matplotlib.pyplot as plt\n",
    "    import seaborn as sns\n",
    "    import altair as alt\n",
    "\n",
    "    # Machine learning\n",
    "    from sklearn import datasets\n",
    "    from sklearn.preprocessing import LabelEncoder\n",
    "    from sklearn.preprocessing import StandardScaler\n",
    "    from sklearn.decomposition import TruncatedSVD\n",
    "    from sklearn.decomposition import PCA\n",
    "    from sklearn.manifold import TSNE\n",
    "    import umap\n",
    "\n",
    "    print(\"All required libraries are already installed!\")\n",
    "except ImportError as e:\n",
    "    print(f\"Missing library: {e}\")"
   ]
  },
  {
   "cell_type": "code",
   "execution_count": null,
   "metadata": {},
   "outputs": [],
   "source": [
    "df_"
   ]
  }
 ],
 "metadata": {
  "kernelspec": {
   "display_name": "DR",
   "language": "python",
   "name": "python3"
  },
  "language_info": {
   "codemirror_mode": {
    "name": "ipython",
    "version": 3
   },
   "file_extension": ".py",
   "mimetype": "text/x-python",
   "name": "python",
   "nbconvert_exporter": "python",
   "pygments_lexer": "ipython3",
   "version": "3.11.10"
  }
 },
 "nbformat": 4,
 "nbformat_minor": 2
}
